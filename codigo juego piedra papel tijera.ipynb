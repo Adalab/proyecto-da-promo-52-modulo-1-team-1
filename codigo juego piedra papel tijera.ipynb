{
 "cells": [
  {
   "cell_type": "markdown",
   "id": "03d005f3",
   "metadata": {},
   "source": [
    "#PIEDRA PAPEL TIJERA"
   ]
  },
  {
   "cell_type": "code",
   "execution_count": null,
   "id": "1b41408f",
   "metadata": {},
   "outputs": [
    {
     "name": "stdout",
     "output_type": "stream",
     "text": [
      "Empate\n",
      "Jugador 1: 0 puntos, Jugador 2: 0 puntos\n",
      "Jugador 1 gana\n",
      "Jugador 1: 1 puntos, Jugador 2: 0 puntos\n",
      "Jugador 1 gana\n",
      "Jugador 1: 2 puntos, Jugador 2: 0 puntos\n",
      "Empate\n",
      "Jugador 1: 2 puntos, Jugador 2: 0 puntos\n",
      "Jugador 2 gana\n",
      "Jugador 1: 2 puntos, Jugador 2: 1 puntos\n",
      "Empate\n",
      "Jugador 1: 2 puntos, Jugador 2: 1 puntos\n",
      "Jugador 1 gana\n",
      "Jugador 1: 3 puntos, Jugador 2: 1 puntos\n",
      "Jugador 1 gana\n",
      "Jugador 1: 4 puntos, Jugador 2: 1 puntos\n",
      "Opción no válida\n",
      "Opción no válida\n",
      "Opción no válida\n"
     ]
    }
   ],
   "source": [
    "#Definimos las variables necesarias para el juego\n",
    "\n",
    "puntuacion_ganadora = 3\n",
    "lista_opciones = [\"piedra\", \"papel\", \"tijera\"]\n",
    "puntos_jugador1 = 0\n",
    "puntos_jugador2 = 0\n",
    "\n",
    "\n",
    "#Definimos la función\n",
    "\n",
    "import random\n",
    "while puntos_jugador1 < 3 or puntos_jugador2 < 3: \n",
    "    eleccion_jugador1 = input(\"Jugador 1, elige piedra, papel o tijera: \").lower()\n",
    "    if eleccion_jugador1 not in lista_opciones:\n",
    "        print(\"Opción no válida\")\n",
    "        continue\n",
    "    eleccion_jugador2= random.choice(lista_opciones)\n",
    "    if eleccion_jugador1 == eleccion_jugador2:\n",
    "        print(\"Empate\")\n",
    "    elif (eleccion_jugador1 == \"piedra\" and eleccion_jugador2 == \"tijera\") or (eleccion_jugador1 == \"papel\" and eleccion_jugador2 == \"piedra\") or (eleccion_jugador1 == \"tijera\" and eleccion_jugador2 == \"papel\"):\n",
    "        print(\"Jugador 1 gana\")\n",
    "        puntos_jugador1 += 1\n",
    "    else:\n",
    "        print(\"Jugador 2 gana\")\n",
    "        puntos_jugador2 += 1\n",
    "    print(f\"Jugador 1: {puntos_jugador1} puntos, Jugador 2: {puntos_jugador2} puntos\")\n",
    "\n",
    "if puntos_jugador1 == 3:\n",
    "    print(\"¡Jugador 1 ha ganado el juego!\")\n",
    "else:\n",
    "    print(\"¡Jugador 2 ha ganado el juego!\")    \n"
   ]
  }
 ],
 "metadata": {
  "kernelspec": {
   "display_name": "base",
   "language": "python",
   "name": "python3"
  },
  "language_info": {
   "codemirror_mode": {
    "name": "ipython",
    "version": 3
   },
   "file_extension": ".py",
   "mimetype": "text/x-python",
   "name": "python",
   "nbconvert_exporter": "python",
   "pygments_lexer": "ipython3",
   "version": "3.12.7"
  }
 },
 "nbformat": 4,
 "nbformat_minor": 5
}
