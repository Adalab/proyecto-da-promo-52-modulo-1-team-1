{
 "cells": [
  {
   "cell_type": "markdown",
   "id": "03d005f3",
   "metadata": {},
   "source": [
    "#PIEDRA PAPEL TIJERA"
   ]
  },
  {
   "cell_type": "code",
   "execution_count": null,
   "id": "1b41408f",
   "metadata": {},
   "outputs": [
    {
     "name": "stdout",
     "output_type": "stream",
     "text": [
      "Opción no válida\n",
      "Opción no válida\n"
     ]
    }
   ],
   "source": [
    "#Definimos las variables necesarias para el juego\n",
    "\n",
    "lista_opciones = [\"piedra\", \"papel\", \"tijera\"]\n",
    "puntos_jugador1 = 0\n",
    "puntos_jugador2 = 0\n",
    "\n",
    "\n",
    "#Definimos la función\n",
    "\n",
    "import random\n",
    "\n",
    "# Bucle principal del juego\n",
    "while True:\n",
    "\n",
    "    # Establacemos las rondas (máximo 3 puntos)\n",
    "    if puntos_jugador1 >= 3 or puntos_jugador2 >= 3:\n",
    "        break\n",
    "\n",
    "    else:\n",
    "        # Entrada del jugador 1\n",
    "        eleccion_jugador1 = input(\"Jugador 1, elige piedra, papel o tijera: \").lower()\n",
    "        if eleccion_jugador1 not in lista_opciones:\n",
    "            print(\"Opción no válida\")\n",
    "            continue\n",
    "\n",
    "        # Entrada del jugador 2 (ordenador). Elección aleatoria\n",
    "        eleccion_jugador2= random.choice(lista_opciones)\n",
    "\n",
    "        # Opciones del juego\n",
    "        if eleccion_jugador1 == eleccion_jugador2:\n",
    "            print(\"Empate. ¡Inténtalo de nuevo!\")\n",
    "\n",
    "        elif (eleccion_jugador1 == \"piedra\" and eleccion_jugador2 == \"tijera\") or \\\n",
    "            (eleccion_jugador1 == \"papel\" and eleccion_jugador2 == \"piedra\") or \\\n",
    "            (eleccion_jugador1 == \"tijera\" and eleccion_jugador2 == \"papel\"):\n",
    "\n",
    "            print(\"Jugador 1 gana esta ronda\")\n",
    "            puntos_jugador1 += 1\n",
    "\n",
    "        else:\n",
    "            print(\"Jugador 2 gana esta ronda\")\n",
    "            puntos_jugador2 += 1\n",
    "\n",
    "        print(f\"Jugador 1: {puntos_jugador1} puntos, Jugador 2: {puntos_jugador2} puntos\")\n",
    "\n",
    "if puntos_jugador1 == 3\n",
    "    print(f\"¡Enhorabuena! Jugador1 has ganado la partida. Jugador 2, más suerte la próxima vez.\")\n",
    "else:\n",
    "    print(f\"¡Enhorabuena! Jugador2 has ganado la partida. Jugador 1, más suerte la próxima vez.\")\n",
    "\n",
    "\n"
   ]
  },
  {
   "cell_type": "code",
   "execution_count": null,
   "id": "7a550c0d",
   "metadata": {},
   "outputs": [],
   "source": []
  }
 ],
 "metadata": {
  "kernelspec": {
   "display_name": "base",
   "language": "python",
   "name": "python3"
  },
  "language_info": {
   "codemirror_mode": {
    "name": "ipython",
    "version": 3
   },
   "file_extension": ".py",
   "mimetype": "text/x-python",
   "name": "python",
   "nbconvert_exporter": "python",
   "pygments_lexer": "ipython3",
   "version": "3.12.7"
  }
 },
 "nbformat": 4,
 "nbformat_minor": 5
}
