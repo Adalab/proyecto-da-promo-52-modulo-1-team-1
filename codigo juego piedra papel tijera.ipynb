{
 "cells": [
  {
   "cell_type": "markdown",
   "id": "03d005f3",
   "metadata": {},
   "source": [
    "#PIEDRA PAPEL TIJERA"
   ]
  },
  {
   "cell_type": "code",
   "execution_count": null,
   "id": "1b41408f",
   "metadata": {},
   "outputs": [
    {
     "name": "stdout",
     "output_type": "stream",
     "text": [
      "Empate\n",
      "Jugador 1: 0 puntos, Jugador 2: 0 puntos\n"
     ]
    }
   ],
   "source": [
    "#Definimos las variables necesarias para el juego\n",
    "\n",
    "puntuacion_ganadora = 3\n",
    "lista_opciones = [\"piedra\", \"papel\", \"tijera\"]\n",
    "puntos_jugador1 = 0\n",
    "puntos_jugador2 = 0\n",
    "\n",
    "\n",
    "#Definimos la funció\n",
    "\n",
    "import random\n",
    "while True: \n",
    "    eleccion_jugador1 = input(\"Jugador 1, elige piedra, papel o tijera: \").lower()\n",
    "    if eleccion_jugador1 not in lista_opciones:\n",
    "        print(\"Opción no válida\")\n",
    "    eleccion_jugador2= random.choice(lista_opciones)\n",
    "    if eleccion_jugador1 == eleccion_jugador2:\n",
    "        print(\"Empate\")\n",
    "    elif (eleccion_jugador1 == \"piedra\" and eleccion_jugador2 == \"tijera\") or\\\n",
    "        (eleccion_jugador1 == \"papel\" and eleccion_jugador2 == \"piedra\") or (eleccion_jugador1 == \"tijera\" and eleccion_jugador2 == \"papel\"):\n",
    "        print(\"Jugador 1 gana\")\n",
    "        puntos_jugador1 += 1\n",
    "    else:\n",
    "        print(\"Jugador 2 gana\")\n",
    "        puntos_jugador2 += 1\n",
    "    print(f\"Jugador 1: {puntos_jugador1} puntos, Jugador 2: {puntos_jugador2} puntos\")\n",
    "\n",
    "    puntuacion_jugador1 \n",
    "    break\n",
    "\n",
    "#PROBANDO A GUARDAR "
   ]
  }
 ],
 "metadata": {
  "kernelspec": {
   "display_name": "Python 3",
   "language": "python",
   "name": "python3"
  },
  "language_info": {
   "codemirror_mode": {
    "name": "ipython",
    "version": 3
   },
   "file_extension": ".py",
   "mimetype": "text/x-python",
   "name": "python",
   "nbconvert_exporter": "python",
   "pygments_lexer": "ipython3",
   "version": "3.11.2"
  }
 },
 "nbformat": 4,
 "nbformat_minor": 5
}
